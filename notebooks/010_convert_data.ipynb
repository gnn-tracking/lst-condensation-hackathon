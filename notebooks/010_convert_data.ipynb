{
 "cells": [
  {
   "cell_type": "markdown",
   "metadata": {},
   "source": [
    "# Converting data into pytorch geometric format\n",
    "\n",
    "* **Status**: Active"
   ]
  },
  {
   "cell_type": "markdown",
   "metadata": {
    "collapsed": false
   },
   "source": [
    "**Code adapted from Jonathan's https://gist.github.com/jkguiang/ea0c7438e76efa61a29a8576b7781cce**"
   ]
  },
  {
   "cell_type": "code",
   "execution_count": 22,
   "metadata": {
    "collapsed": true
   },
   "outputs": [],
   "source": [
    "from tqdm.auto import tqdm\n",
    "\n",
    "import uproot\n",
    "import torch\n",
    "from torch_geometric.data import Data\n",
    "from pathlib import Path\n",
    "from torch import Tensor as T"
   ]
  },
  {
   "cell_type": "code",
   "execution_count": 23,
   "metadata": {
    "collapsed": false
   },
   "outputs": [],
   "source": [
    "import dataclasses\n",
    "\n",
    "\n",
    "@dataclasses.dataclass(kw_only=True)\n",
    "class IngressColumnConfig:\n",
    "    edge_truth_label: str\n",
    "    edge_indices: tuple[str, str]\n",
    "    edge_features: list[str]\n",
    "    node_features: list[str]\n",
    "    particle_id: str\n",
    "    truth_pt: str\n",
    "    truth_eta: str"
   ]
  },
  {
   "cell_type": "code",
   "execution_count": 24,
   "metadata": {
    "collapsed": false
   },
   "outputs": [],
   "source": [
    "icc = IngressColumnConfig(\n",
    "    edge_truth_label=\"LS_isFake\",\n",
    "    edge_indices=(\"LS_MD_idx0\", \"LS_MD_idx1\"),\n",
    "    edge_features=[\"LS_pt\", \"LS_eta\", \"LS_phi\"],\n",
    "    node_features=[\n",
    "        \"MD_0_x\",\n",
    "        \"MD_0_y\",\n",
    "        \"MD_0_z\",\n",
    "        \"MD_1_x\",\n",
    "        \"MD_1_y\",\n",
    "        \"MD_1_z\",\n",
    "        \"MD_dphichange\",\n",
    "        \"MD_phi\",\n",
    "        \"MD_eta\",\n",
    "    ],\n",
    "    particle_id=\"MD_sim_idx\",\n",
    "    truth_pt=\"MD_sim_pt\",\n",
    "    truth_eta=\"MD_sim_eta\",\n",
    ")"
   ]
  },
  {
   "cell_type": "code",
   "execution_count": 25,
   "metadata": {
    "collapsed": false
   },
   "outputs": [],
   "source": [
    "def r_phi_eta(x: T, y: T, z: T) -> tuple[T, T, T]:\n",
    "    r = torch.sqrt(x**2 + y**2)\n",
    "    phi = torch.arctan2(y, x)\n",
    "    theta = torch.arctan2(r, z)\n",
    "    eta = -torch.log(torch.tan(theta / 2.0))\n",
    "    return r, phi, eta"
   ]
  },
  {
   "cell_type": "code",
   "execution_count": 30,
   "metadata": {
    "collapsed": false
   },
   "outputs": [],
   "source": [
    "class LSDatasetConverter:\n",
    "    def __init__(self, columns: IngressColumnConfig):\n",
    "        self._cc = columns\n",
    "\n",
    "    def convert_batch(\n",
    "        self,\n",
    "        batch,\n",
    "    ):\n",
    "        # Get indices of nodes connected by each edge\n",
    "        edge_idxs = torch.tensor(\n",
    "            [batch[n].to_list() for n in self._cc.edge_indices],\n",
    "            dtype=torch.long,\n",
    "        )\n",
    "\n",
    "        # Get edge features\n",
    "        edge_attr = []\n",
    "        for branch_name in self._cc.edge_features:\n",
    "            feature = torch.tensor(batch[branch_name].to_list(), dtype=torch.float)\n",
    "            feature[torch.isinf(feature)] = feature[~torch.isinf(feature)].max()\n",
    "            edge_attr.append(feature)\n",
    "\n",
    "        edge_attr = torch.transpose(torch.stack(edge_attr), 0, 1)\n",
    "\n",
    "        # Get node features\n",
    "        node_attr = []\n",
    "        for branch_name in self._cc.node_features:\n",
    "            feature = torch.tensor(batch[branch_name].to_list(), dtype=torch.float)\n",
    "            node_attr.append(feature)\n",
    "\n",
    "        node_attr = torch.transpose(torch.stack(node_attr), 0, 1)\n",
    "        particle_id = torch.tensor(\n",
    "            batch[self._cc.particle_id].to_list(), dtype=torch.long\n",
    "        )\n",
    "\n",
    "        # Get truth labels\n",
    "        truth = (particle_id[edge_idxs[0]] == particle_id[edge_idxs[1]]) & (\n",
    "            particle_id[edge_idxs[0]] >= 0\n",
    "        )\n",
    "\n",
    "        truth_pt = torch.tensor(batch[self._cc.truth_pt].to_list(), dtype=torch.float)\n",
    "        truth_eta = torch.tensor(batch[self._cc.truth_eta].to_list(), dtype=torch.float)\n",
    "        reconstructable = torch.ones_like(particle_id, dtype=torch.bool)\n",
    "        sector = torch.full_like(\n",
    "            particle_id,\n",
    "            0,\n",
    "        )\n",
    "\n",
    "        return Data(\n",
    "            x=node_attr,\n",
    "            y=truth,\n",
    "            edge_index=edge_idxs,\n",
    "            edge_attr=edge_attr,\n",
    "            particle_id=particle_id,\n",
    "            pt=truth_pt,\n",
    "            eta=truth_eta,\n",
    "            sector=sector,\n",
    "            reconstructable=reconstructable,\n",
    "        )\n",
    "\n",
    "    def ingress(\n",
    "        self,\n",
    "        *,\n",
    "        input_file: Path,\n",
    "        out_dir: Path,\n",
    "        tree_name: str = \"tree\",\n",
    "        branch_filter: str = \"/(MD|LS|sim)_*/\",\n",
    "        redo=True,\n",
    "    ):\n",
    "        tree = uproot.open(f\"{input_file}:{tree_name}\")\n",
    "        inpt = tree.iterate(\n",
    "            step_size=1,\n",
    "            filter_name=branch_filter,\n",
    "        )\n",
    "        # fixme: Len(tree) actually isn't accurate\n",
    "        iterator = tqdm(enumerate(inpt), total=len(tree))\n",
    "\n",
    "        for i, batch in iterator:\n",
    "            out_path = out_dir / f\"{i:04d}.pt\"\n",
    "            if not redo and out_path.is_file():\n",
    "                # not ideal, because we're still reading the file which\n",
    "                # amounts to most of the time\n",
    "                continue\n",
    "            batch = batch[0, :]  # only one event per batch\n",
    "            data = self.convert_batch(batch)\n",
    "            out_dir.mkdir(parents=True, exist_ok=True)\n",
    "            torch.save(data, out_path)"
   ]
  },
  {
   "cell_type": "code",
   "execution_count": 31,
   "metadata": {
    "collapsed": false
   },
   "outputs": [],
   "source": [
    "lsdc = LSDatasetConverter(icc)"
   ]
  },
  {
   "cell_type": "code",
   "execution_count": 32,
   "metadata": {
    "collapsed": false
   },
   "outputs": [
    {
     "data": {
      "application/vnd.jupyter.widget-view+json": {
       "model_id": "c3cdd25e34c74bbaacffe3a05393d525",
       "version_major": 2,
       "version_minor": 0
      },
      "text/plain": [
       "  0%|          | 0/207 [00:00<?, ?it/s]"
      ]
     },
     "metadata": {},
     "output_type": "display_data"
    }
   ],
   "source": [
    "lsdc.ingress(\n",
    "    input_file=Path(\n",
    "        \"/scratch/gpfs/IOJALVO/gnn-tracking/object_condensation/lst_data_v1/root/LSTNtuple_DNNTraining_hasT5Chi2_PU200.root\"\n",
    "    ),\n",
    "    out_dir=Path(\n",
    "        \"/scratch/gpfs/IOJALVO/gnn-tracking/object_condensation/lst_data_v1/processed\"\n",
    "    ),\n",
    "    redo=True,\n",
    ")"
   ]
  },
  {
   "cell_type": "code",
   "execution_count": 11,
   "metadata": {
    "collapsed": false
   },
   "outputs": [],
   "source": [
    "tree = uproot.open(\n",
    "    f\"/scratch/gpfs/IOJALVO/gnn-tracking/object_condensation/lst_data_v1/root/LSTNtuple_DNNTraining_hasT5Chi2_PU200.root:tree\"\n",
    ")"
   ]
  },
  {
   "cell_type": "code",
   "execution_count": 12,
   "metadata": {},
   "outputs": [
    {
     "data": {
      "text/plain": [
       "<TTree 'tree' (207 branches) at 0x1467f590b7f0>"
      ]
     },
     "execution_count": 12,
     "metadata": {},
     "output_type": "execute_result"
    }
   ],
   "source": [
    "tree"
   ]
  },
  {
   "cell_type": "markdown",
   "metadata": {},
   "source": [
    "## Deep dive into truth label"
   ]
  },
  {
   "cell_type": "code",
   "execution_count": 14,
   "metadata": {},
   "outputs": [],
   "source": [
    "dpath = Path(\n",
    "    \"/scratch/gpfs/IOJALVO/gnn-tracking/object_condensation/lst_data_v1/processed\"\n",
    ")"
   ]
  },
  {
   "cell_type": "code",
   "execution_count": 15,
   "metadata": {},
   "outputs": [],
   "source": [
    "data = torch.load(list(dpath.glob(\"*.pt\"))[0])"
   ]
  },
  {
   "cell_type": "code",
   "execution_count": 16,
   "metadata": {},
   "outputs": [
    {
     "data": {
      "text/plain": [
       "tensor([ True,  True,  True,  ..., False, False,  True])"
      ]
     },
     "execution_count": 16,
     "metadata": {},
     "output_type": "execute_result"
    }
   ],
   "source": [
    "data.y.bool()"
   ]
  },
  {
   "cell_type": "code",
   "execution_count": 17,
   "metadata": {},
   "outputs": [],
   "source": [
    "real_y = data.particle_id[data.edge_index[0]] == data.particle_id[data.edge_index[1]]"
   ]
  },
  {
   "cell_type": "code",
   "execution_count": 18,
   "metadata": {},
   "outputs": [
    {
     "data": {
      "text/plain": [
       "tensor([False, False,  True,  ..., False,  True, False])"
      ]
     },
     "execution_count": 18,
     "metadata": {},
     "output_type": "execute_result"
    }
   ],
   "source": [
    "real_y"
   ]
  },
  {
   "cell_type": "code",
   "execution_count": 21,
   "metadata": {},
   "outputs": [
    {
     "data": {
      "text/plain": [
       "tensor(0.1674)"
      ]
     },
     "execution_count": 21,
     "metadata": {},
     "output_type": "execute_result"
    }
   ],
   "source": [
    "real_y[data.y.bool()].float().mean()"
   ]
  },
  {
   "cell_type": "code",
   "execution_count": null,
   "metadata": {},
   "outputs": [],
   "source": []
  }
 ],
 "metadata": {
  "kernelspec": {
   "display_name": "Python 3 (ipykernel)",
   "language": "python",
   "name": "python3"
  },
  "language_info": {
   "codemirror_mode": {
    "name": "ipython",
    "version": 3
   },
   "file_extension": ".py",
   "mimetype": "text/x-python",
   "name": "python",
   "nbconvert_exporter": "python",
   "pygments_lexer": "ipython3",
   "version": "3.10.11"
  }
 },
 "nbformat": 4,
 "nbformat_minor": 0
}
