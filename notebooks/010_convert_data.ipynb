{
 "cells": [
  {
   "cell_type": "markdown",
   "source": [
    "**Code adapted from Jonathan's https://gist.github.com/jkguiang/ea0c7438e76efa61a29a8576b7781cce**"
   ],
   "metadata": {
    "collapsed": false
   }
  },
  {
   "cell_type": "code",
   "execution_count": 1,
   "metadata": {
    "collapsed": true
   },
   "outputs": [],
   "source": [
    "from tqdm.auto import tqdm\n",
    "\n",
    "import uproot\n",
    "import torch\n",
    "from torch_geometric.data import Data\n",
    "from pathlib import Path\n",
    "from torch import Tensor as T"
   ]
  },
  {
   "cell_type": "code",
   "execution_count": 9,
   "outputs": [],
   "source": [
    "import dataclasses\n",
    "\n",
    "\n",
    "@dataclasses.dataclass(kw_only=True)\n",
    "class IngressColumnConfig:\n",
    "    edge_truth_label: str\n",
    "    edge_indices: tuple[str, str]\n",
    "    edge_features: list[str]\n",
    "    node_features: list[str]\n",
    "    particle_id: str\n",
    "    truth_pt: str\n",
    "    truth_eta: str"
   ],
   "metadata": {
    "collapsed": false
   }
  },
  {
   "cell_type": "code",
   "execution_count": 10,
   "outputs": [],
   "source": [
    "icc = IngressColumnConfig(\n",
    "    edge_truth_label=\"LS_isFake\",\n",
    "    edge_indices=(\"LS_MD_idx0\", \"LS_MD_idx1\"),\n",
    "    edge_features=[\"LS_pt\", \"LS_eta\", \"LS_phi\"],\n",
    "    node_features=[\n",
    "        \"MD_0_x\",\n",
    "        \"MD_0_y\",\n",
    "        \"MD_0_z\",\n",
    "        \"MD_1_x\",\n",
    "        \"MD_1_y\",\n",
    "        \"MD_1_z\",\n",
    "        \"MD_dphichange\",\n",
    "        \"MD_phi\",\n",
    "        \"MD_eta\",\n",
    "    ],\n",
    "    particle_id=\"MD_sim_idx\",\n",
    "    truth_pt=\"MD_sim_pt\",\n",
    "    truth_eta=\"MD_sim_eta\",\n",
    ")"
   ],
   "metadata": {
    "collapsed": false
   }
  },
  {
   "cell_type": "code",
   "execution_count": 11,
   "outputs": [],
   "source": [
    "def r_phi_eta(x: T, y: T, z: T) -> tuple[T, T, T]:\n",
    "    r = torch.sqrt(x**2 + y**2)\n",
    "    phi = torch.arctan2(y, x)\n",
    "    theta = torch.arctan2(r, z)\n",
    "    eta = -torch.log(torch.tan(theta / 2.0))\n",
    "    return r, phi, eta"
   ],
   "metadata": {
    "collapsed": false
   }
  },
  {
   "cell_type": "code",
   "execution_count": 18,
   "outputs": [],
   "source": [
    "class LSDatasetConverter:\n",
    "    def __init__(self, columns: IngressColumnConfig):\n",
    "        self._cc = columns\n",
    "\n",
    "    def convert_batch(\n",
    "        self,\n",
    "        batch,\n",
    "    ):\n",
    "        # Get truth labels\n",
    "        truth = torch.tensor(\n",
    "            ~(batch[self._cc.edge_truth_label].to_numpy().astype(bool)),\n",
    "            dtype=torch.float,\n",
    "        )\n",
    "\n",
    "        # Get indices of nodes connected by each edge\n",
    "        edge_idxs = torch.tensor(\n",
    "            [batch[n].to_list() for n in self._cc.edge_indices],\n",
    "            dtype=torch.long,\n",
    "        )\n",
    "\n",
    "        # Get edge features\n",
    "        edge_attr = []\n",
    "        for branch_name in self._cc.edge_features:\n",
    "            feature = torch.tensor(batch[branch_name].to_list(), dtype=torch.float)\n",
    "            feature[torch.isinf(feature)] = feature[~torch.isinf(feature)].max()\n",
    "            edge_attr.append(feature)\n",
    "\n",
    "        edge_attr = torch.transpose(torch.stack(edge_attr), 0, 1)\n",
    "\n",
    "        # Get node features\n",
    "        node_attr = []\n",
    "        for branch_name in self._cc.node_features:\n",
    "            feature = torch.tensor(batch[branch_name].to_list(), dtype=torch.float)\n",
    "            node_attr.append(feature)\n",
    "\n",
    "        node_attr = torch.transpose(torch.stack(node_attr), 0, 1)\n",
    "        particle_id = torch.tensor(\n",
    "            batch[self._cc.particle_id].to_list(), dtype=torch.long\n",
    "        )\n",
    "\n",
    "        truth_pt = torch.tensor(batch[self._cc.truth_pt].to_list(), dtype=torch.float)\n",
    "        truth_eta = torch.tensor(batch[self._cc.truth_eta].to_list(), dtype=torch.float)\n",
    "        reconstructable = torch.ones_like(particle_id, dtype=torch.bool)\n",
    "        sector = torch.full_like(\n",
    "            particle_id,\n",
    "            0,\n",
    "        )\n",
    "\n",
    "        return Data(\n",
    "            x=node_attr,\n",
    "            y=truth,\n",
    "            edge_index=edge_idxs,\n",
    "            edge_attr=edge_attr,\n",
    "            particle_id=particle_id,\n",
    "            pt=truth_pt,\n",
    "            eta=truth_eta,\n",
    "            sector=sector,\n",
    "            reconstructable=reconstructable,\n",
    "        )\n",
    "\n",
    "    def ingress(\n",
    "        self,\n",
    "        *,\n",
    "        input_file: Path,\n",
    "        out_dir: Path,\n",
    "        tree_name: str = \"tree\",\n",
    "        branch_filter: str = \"/(MD|LS|sim)_*/\",\n",
    "    ):\n",
    "        tree = uproot.open(f\"{input_file}:{tree_name}\")\n",
    "        inpt = tree.iterate(\n",
    "            step_size=1,\n",
    "            filter_name=branch_filter,\n",
    "        )\n",
    "        iterator = tqdm(enumerate(inpt), total=len(tree))\n",
    "\n",
    "        for i, batch in iterator:\n",
    "            batch = batch[0, :]  # only one event per batch\n",
    "            data = self.convert_batch(batch)\n",
    "            out_dir.mkdir(parents=True, exist_ok=True)\n",
    "            torch.save(data, out_dir / f\"{i:04d}.pt\")"
   ],
   "metadata": {
    "collapsed": false
   }
  },
  {
   "cell_type": "code",
   "execution_count": 19,
   "outputs": [],
   "source": [
    "lsdc = LSDatasetConverter(icc)"
   ],
   "metadata": {
    "collapsed": false
   }
  },
  {
   "cell_type": "code",
   "execution_count": 20,
   "outputs": [
    {
     "data": {
      "text/plain": "  0%|          | 0/164 [00:00<?, ?it/s]",
      "application/vnd.jupyter.widget-view+json": {
       "version_major": 2,
       "version_minor": 0,
       "model_id": "90b6af008dc94408b6e7e396ef4cf3ee"
      }
     },
     "metadata": {},
     "output_type": "display_data"
    }
   ],
   "source": [
    "lsdc.ingress(\n",
    "    input_file=Path(\n",
    "        \"/scratch/gpfs/IOJALVO/gnn-tracking/object_condensation/lst_data_v0/root/LSTNtuple_MLTraining_v1.root\"\n",
    "    ),\n",
    "    out_dir=Path(\n",
    "        \"/scratch/gpfs/IOJALVO/gnn-tracking/object_condensation/lst_data_v0/processed\"\n",
    "    ),\n",
    ")"
   ],
   "metadata": {
    "collapsed": false
   }
  },
  {
   "cell_type": "code",
   "execution_count": null,
   "outputs": [],
   "source": [],
   "metadata": {
    "collapsed": false
   }
  }
 ],
 "metadata": {
  "kernelspec": {
   "display_name": "Python 3",
   "language": "python",
   "name": "python3"
  },
  "language_info": {
   "codemirror_mode": {
    "name": "ipython",
    "version": 2
   },
   "file_extension": ".py",
   "mimetype": "text/x-python",
   "name": "python",
   "nbconvert_exporter": "python",
   "pygments_lexer": "ipython2",
   "version": "2.7.6"
  }
 },
 "nbformat": 4,
 "nbformat_minor": 0
}
