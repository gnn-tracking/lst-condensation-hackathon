{
 "cells": [
  {
   "cell_type": "markdown",
   "source": [
    "**Code adapted from Jonathan's https://gist.github.com/jkguiang/ea0c7438e76efa61a29a8576b7781cce**"
   ],
   "metadata": {
    "collapsed": false
   }
  },
  {
   "cell_type": "code",
   "execution_count": 1,
   "metadata": {
    "collapsed": true
   },
   "outputs": [],
   "source": [
    "from tqdm.auto import tqdm\n",
    "import os\n",
    "import json\n",
    "\n",
    "import uproot\n",
    "import torch\n",
    "from torch_geometric.data import Data\n",
    "from torch_geometric.utils import to_undirected\n",
    "from pathlib import Path"
   ]
  },
  {
   "cell_type": "code",
   "execution_count": 2,
   "outputs": [],
   "source": [
    "def transform(feature, transf):\n",
    "    if transf == None:\n",
    "        return feature\n",
    "    elif transf == \"rescale\":\n",
    "        return (feature - feature.min()) / (feature.max() - feature.min())\n",
    "    elif transf == \"log\":\n",
    "        return torch.log(feature)\n",
    "    elif transf == \"log2\":\n",
    "        return torch.log2(feature)\n",
    "    elif transf == \"log10\":\n",
    "        return torch.log10(feature)\n",
    "    else:\n",
    "        raise ValueError(f\"transformation '{transf}' not supported\")"
   ],
   "metadata": {
    "collapsed": false
   }
  },
  {
   "cell_type": "code",
   "execution_count": 3,
   "outputs": [
    {
     "name": "stdout",
     "output_type": "stream",
     "text": [
      "/home/kl5675/Documents/23/git_sync/hpo/slurm\r\n"
     ]
    }
   ],
   "source": [
    "!pwd"
   ],
   "metadata": {
    "collapsed": false
   }
  },
  {
   "cell_type": "code",
   "execution_count": 4,
   "outputs": [],
   "source": [
    "config = json.loads(\n",
    "    Path(\n",
    "        \"/home/kl5675/Documents/23/git_sync/lst-condensation-hackathon/notebooks/ingress.json\"\n",
    "    ).read_text()\n",
    ")"
   ],
   "metadata": {
    "collapsed": false
   }
  },
  {
   "cell_type": "code",
   "execution_count": 5,
   "outputs": [],
   "source": [
    "def ingress(set_name, config, save=True):\n",
    "    start, stop = config[\"ingress\"][f\"{set_name}_entry_range\"]\n",
    "    transforms = config[\"ingress\"].get(\"transforms\", {})\n",
    "    tree = uproot.open(\n",
    "        f\"{config['ingress']['input_file']}:{config['ingress']['ttree_name']}\"\n",
    "    )\n",
    "    print(f\"Loaded input file, reading {start} to {stop} for {set_name} set\")\n",
    "    inpt = tree.iterate(\n",
    "        step_size=1,\n",
    "        filter_name=config[\"ingress\"].get(\"branch_filter\", None),\n",
    "        entry_start=start,\n",
    "        entry_stop=stop,\n",
    "    )\n",
    "    iterator = tqdm(enumerate(inpt), total=stop - start)\n",
    "\n",
    "    for i, batch in iterator:\n",
    "        batch = batch[0, :]  # only one event per batch\n",
    "\n",
    "        # Get truth labels\n",
    "        truth = torch.tensor(\n",
    "            ~(batch[config[\"ingress\"][\"truth_label\"]].to_numpy().astype(bool)),\n",
    "            dtype=torch.float,\n",
    "        )\n",
    "\n",
    "        # Get indices of nodes connected by each edge\n",
    "        edge_idxs = torch.tensor(\n",
    "            [batch[n].to_list() for n in config[\"ingress\"][\"edge_indices\"]],\n",
    "            dtype=torch.long,\n",
    "        )\n",
    "\n",
    "        # Get edge features\n",
    "        edge_attr = []\n",
    "        for branch_name in config[\"ingress\"][\"edge_features\"]:\n",
    "            feature = torch.tensor(batch[branch_name].to_list(), dtype=torch.float)\n",
    "            feature[torch.isinf(feature)] = feature[~torch.isinf(feature)].max()\n",
    "            feature = transform(feature, transforms.get(branch_name, None))\n",
    "            edge_attr.append(feature)\n",
    "\n",
    "        edge_attr = torch.transpose(torch.stack(edge_attr), 0, 1)\n",
    "\n",
    "        # Get node features\n",
    "        node_attr = []\n",
    "        for branch_name in config[\"ingress\"][\"node_features\"]:\n",
    "            feature = torch.tensor(batch[branch_name].to_list(), dtype=torch.float)\n",
    "            feature = transform(feature, transforms.get(branch_name, None))\n",
    "            node_attr.append(feature)\n",
    "\n",
    "        node_attr = torch.transpose(torch.stack(node_attr), 0, 1)\n",
    "\n",
    "        particle_id = torch.tensor(batch[\"MD_sim_idx\"].to_list(), dtype=torch.long)\n",
    "\n",
    "        if config[\"ingress\"].get(\"undirected\", False):\n",
    "            edge_idxs_bi, edge_attr_bi = to_undirected(edge_idxs, edge_attr)\n",
    "            _, truth_bi = to_undirected(edge_idxs, truth)\n",
    "            data = Data(\n",
    "                x=node_attr,\n",
    "                y=truth_bi,\n",
    "                edge_index=edge_idxs_bi,\n",
    "                edge_attr=edge_attr_bi,\n",
    "                particle_id=particle_id,\n",
    "            )\n",
    "        else:\n",
    "            data = Data(\n",
    "                x=node_attr,\n",
    "                y=truth,\n",
    "                edge_index=edge_idxs,\n",
    "                edge_attr=edge_attr,\n",
    "                particle_id=particle_id,\n",
    "            )\n",
    "\n",
    "        if save:\n",
    "            outdir = f\"{config['base_dir']}/{config['name']}/datasets\"\n",
    "            os.makedirs(outdir, exist_ok=True)\n",
    "            outfile = f\"{outdir}/{i:04d}.pt\"\n",
    "            torch.save(data, outfile)"
   ],
   "metadata": {
    "collapsed": false
   }
  },
  {
   "cell_type": "code",
   "execution_count": 6,
   "outputs": [
    {
     "name": "stdout",
     "output_type": "stream",
     "text": [
      "Loaded input file, reading 0 to 175 for train set\n"
     ]
    },
    {
     "data": {
      "text/plain": "  0%|          | 0/175 [00:00<?, ?it/s]",
      "application/vnd.jupyter.widget-view+json": {
       "version_major": 2,
       "version_minor": 0,
       "model_id": "336f01f72c4c4eba9f9d50dcf1407e88"
      }
     },
     "metadata": {},
     "output_type": "display_data"
    }
   ],
   "source": [
    "ingress(\"train\", config)"
   ],
   "metadata": {
    "collapsed": false
   }
  }
 ],
 "metadata": {
  "kernelspec": {
   "display_name": "Python 3",
   "language": "python",
   "name": "python3"
  },
  "language_info": {
   "codemirror_mode": {
    "name": "ipython",
    "version": 2
   },
   "file_extension": ".py",
   "mimetype": "text/x-python",
   "name": "python",
   "nbconvert_exporter": "python",
   "pygments_lexer": "ipython2",
   "version": "2.7.6"
  }
 },
 "nbformat": 4,
 "nbformat_minor": 0
}
