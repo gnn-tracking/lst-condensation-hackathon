{
 "cells": [
  {
   "cell_type": "code",
   "execution_count": 1,
   "outputs": [],
   "source": [
    "%load_ext autoreload\n",
    "%autoreload 2\n",
    "\n",
    "from pytorch_lightning.core.mixins import HyperparametersMixin\n",
    "from torch_geometric.data import Data\n",
    "from pytorch_lightning import Trainer\n",
    "\n",
    "from gnn_tracking.metrics.losses import PotentialLoss, BackgroundLoss\n",
    "import torch\n",
    "from functools import partial\n",
    "from gnn_tracking.training.tc import TCModule\n",
    "from gnn_tracking.utils.loading import TrackingDataModule"
   ],
   "metadata": {
    "collapsed": false
   }
  },
  {
   "cell_type": "markdown",
   "source": [
    "## 1. Configure data"
   ],
   "metadata": {
    "collapsed": false
   }
  },
  {
   "cell_type": "code",
   "execution_count": 38,
   "outputs": [],
   "source": [
    "dm = TrackingDataModule(\n",
    "    train=dict(\n",
    "        dirs=[\n",
    "            \"/scratch/gpfs/IOJALVO/gnn-tracking/object_condensation/lst_data_v0/processed/\"\n",
    "        ],\n",
    "        stop=150,\n",
    "        max_sample_size=800,\n",
    "    ),\n",
    "    val=dict(\n",
    "        dirs=[\n",
    "            \"/scratch/gpfs/IOJALVO/gnn-tracking/object_condensation/lst_data_v0/processed/\"\n",
    "        ],\n",
    "        start=150,\n",
    "        stop=155,\n",
    "    ),\n",
    "    cpus=3,\n",
    "    # could also configure a 'test' set here\n",
    ")"
   ],
   "metadata": {
    "collapsed": false
   }
  },
  {
   "cell_type": "code",
   "execution_count": 30,
   "outputs": [],
   "source": [
    "from gnn_tracking.models.resin import ResIN\n",
    "from torch import nn, Tensor\n",
    "from gnn_tracking.models.track_condensation_networks import ModularGraphTCN\n",
    "\n",
    "\n",
    "class LSGraphTCN(nn.Module, HyperparametersMixin):\n",
    "    def __init__(\n",
    "        self,\n",
    "        *,\n",
    "        node_indim: int,\n",
    "        edge_indim: int,\n",
    "        h_dim=5,\n",
    "        e_dim=4,\n",
    "        h_outdim=2,\n",
    "        hidden_dim=40,\n",
    "        L_hc=3,\n",
    "        alpha_hc: float = 0.5,\n",
    "    ):\n",
    "        super().__init__()\n",
    "        self.save_hyperparameters()\n",
    "        hc_in = ResIN(\n",
    "            node_dim=h_dim,\n",
    "            edge_dim=e_dim,\n",
    "            object_hidden_dim=hidden_dim,\n",
    "            relational_hidden_dim=hidden_dim,\n",
    "            alpha=alpha_hc,\n",
    "            n_layers=L_hc,\n",
    "        )\n",
    "        self._gtcn = ModularGraphTCN(\n",
    "            hc_in=hc_in,\n",
    "            node_indim=node_indim,\n",
    "            edge_indim=edge_indim,\n",
    "            h_dim=h_dim,\n",
    "            e_dim=e_dim,\n",
    "            h_outdim=h_outdim,\n",
    "            hidden_dim=hidden_dim,\n",
    "        )\n",
    "\n",
    "    def forward(\n",
    "        self,\n",
    "        data: Data,\n",
    "    ) -> dict[str, Tensor]:\n",
    "        return self._gtcn.forward(data=data)"
   ],
   "metadata": {
    "collapsed": false
   }
  },
  {
   "cell_type": "code",
   "execution_count": 31,
   "outputs": [
    {
     "name": "stderr",
     "output_type": "stream",
     "text": [
      "/scratch/gpfs/kl5675/micromamba/envs/gnn/lib/python3.10/site-packages/pytorch_lightning/utilities/parsing.py:196: UserWarning: Attribute 'hc_in' is an instance of `nn.Module` and is already saved during checkpointing. It is recommended to ignore them using `self.save_hyperparameters(ignore=['hc_in'])`.\n",
      "  rank_zero_warn(\n"
     ]
    }
   ],
   "source": [
    "model = LSGraphTCN(\n",
    "    node_indim=9, edge_indim=3, h_dim=128, e_dim=128, h_outdim=12, L_hc=3\n",
    ")"
   ],
   "metadata": {
    "collapsed": false
   }
  },
  {
   "cell_type": "markdown",
   "source": [
    "## 3. Configure loss functions and weights"
   ],
   "metadata": {
    "collapsed": false
   }
  },
  {
   "cell_type": "code",
   "execution_count": 35,
   "outputs": [],
   "source": [
    "from gnn_tracking.postprocessing.dbscanscanner import DBSCANHyperParamScanner\n",
    "\n",
    "\n",
    "def n_trials(epoch: int) -> int:\n",
    "    # if epoch < 10:\n",
    "    #     return 0\n",
    "    if epoch % 3 == 0:\n",
    "        return 6\n",
    "    else:\n",
    "        return 0\n",
    "\n",
    "\n",
    "# TC for track condensation\n",
    "lmodel = TCModule(\n",
    "    model=model,\n",
    "    potential_loss=PotentialLoss(\n",
    "        radius_threshold=1.0,\n",
    "    ),\n",
    "    background_loss=BackgroundLoss(),\n",
    "    lw_repulsive=1.0,\n",
    "    lw_background=0.1,\n",
    "    optimizer=partial(torch.optim.Adam, lr=7.5e-4),\n",
    "    cluster_scanner=DBSCANHyperParamScanner(\n",
    "        n_trials=n_trials, n_jobs=3, min_samples_range=(1, 1)\n",
    "    ),\n",
    ")"
   ],
   "metadata": {
    "collapsed": false
   }
  },
  {
   "cell_type": "markdown",
   "source": [
    "## 4. Train the model"
   ],
   "metadata": {
    "collapsed": false
   }
  },
  {
   "cell_type": "code",
   "execution_count": 36,
   "outputs": [
    {
     "name": "stderr",
     "output_type": "stream",
     "text": [
      "/scratch/gpfs/kl5675/micromamba/envs/gnn/lib/python3.10/site-packages/pytorch_lightning/loggers/wandb.py:396: UserWarning: There is a wandb run already in progress and newly created instances of `WandbLogger` will reuse this run. If this is not desired, call `wandb.finish()` before instantiating `WandbLogger`.\n",
      "  rank_zero_warn(\n"
     ]
    }
   ],
   "source": [
    "from pytorch_lightning.loggers import WandbLogger\n",
    "\n",
    "wl = WandbLogger(\n",
    "    project=\"lst_oc\",\n",
    "    group=\"first\",\n",
    "    offline=True,\n",
    ")"
   ],
   "metadata": {
    "collapsed": false
   }
  },
  {
   "cell_type": "code",
   "execution_count": 37,
   "outputs": [
    {
     "name": "stderr",
     "output_type": "stream",
     "text": [
      "/scratch/gpfs/kl5675/micromamba/envs/gnn/lib/python3.10/site-packages/lightning_fabric/plugins/environments/slurm.py:165: PossibleUserWarning: The `srun` command is available on your system but is not used. HINT: If your intention is to run Lightning on SLURM, prepend your python command with `srun` like so: srun python /scratch/gpfs/kl5675/micromamba/envs/gnn/lib/python3 ...\n",
      "  rank_zero_warn(\n",
      "GPU available: True (cuda), used: True\n",
      "TPU available: False, using: 0 TPU cores\n",
      "IPU available: False, using: 0 IPUs\n",
      "HPU available: False, using: 0 HPUs\n",
      "/scratch/gpfs/kl5675/micromamba/envs/gnn/lib/python3.10/site-packages/pytorch_lightning/loops/utilities.py:70: PossibleUserWarning: `max_epochs` was not set. Setting it to 1000 epochs. To train without an epoch limit, set `max_epochs=-1`.\n",
      "  rank_zero_warn(\n",
      "You are using a CUDA device ('NVIDIA A100-SXM4-80GB') that has Tensor Cores. To properly utilize them, you should set `torch.set_float32_matmul_precision('medium' | 'high')` which will trade-off precision for performance. For more details, read https://pytorch.org/docs/stable/generated/torch.set_float32_matmul_precision.html#torch.set_float32_matmul_precision\n",
      "\u001b[32m[21:28:26] INFO: DataLoader will load 150 graphs (out of 175 available).\u001b[0m\n",
      "\u001b[36m[21:28:26] DEBUG: First graph is /scratch/gpfs/IOJALVO/gnn-tracking/object_condensation/lst_data_v0/processed/0000.pt, last graph is /scratch/gpfs/IOJALVO/gnn-tracking/object_condensation/lst_data_v0/processed/0149.pt\u001b[0m\n",
      "\u001b[32m[21:28:26] INFO: DataLoader will load 5 graphs (out of 175 available).\u001b[0m\n",
      "\u001b[36m[21:28:26] DEBUG: First graph is /scratch/gpfs/IOJALVO/gnn-tracking/object_condensation/lst_data_v0/processed/0150.pt, last graph is /scratch/gpfs/IOJALVO/gnn-tracking/object_condensation/lst_data_v0/processed/0154.pt\u001b[0m\n",
      "/scratch/gpfs/kl5675/micromamba/envs/gnn/lib/python3.10/site-packages/pytorch_lightning/callbacks/model_checkpoint.py:615: UserWarning: Checkpoint directory ./lst_oc/ip00j0fb/checkpoints exists and is not empty.\n",
      "  rank_zero_warn(f\"Checkpoint directory {dirpath} exists and is not empty.\")\n",
      "LOCAL_RANK: 0 - CUDA_VISIBLE_DEVICES: [0]\n",
      "\n",
      "  | Name            | Type           | Params\n",
      "---------------------------------------------------\n",
      "0 | model           | LSGraphTCN     | 143 K \n",
      "1 | potential_loss  | PotentialLoss  | 0     \n",
      "2 | background_loss | BackgroundLoss | 0     \n",
      "---------------------------------------------------\n",
      "143 K     Trainable params\n",
      "0         Non-trainable params\n",
      "143 K     Total params\n",
      "0.573     Total estimated model params size (MB)\n",
      "/scratch/gpfs/kl5675/micromamba/envs/gnn/lib/python3.10/site-packages/pytorch_lightning/trainer/connectors/data_connector.py:432: PossibleUserWarning: The dataloader, val_dataloader, does not have many workers which may be a bottleneck. Consider increasing the value of the `num_workers` argument` (try 48 which is the number of cpus on this machine) in the `DataLoader` init to improve performance.\n",
      "  rank_zero_warn(\n"
     ]
    },
    {
     "data": {
      "text/plain": "",
      "text/html": "<pre style=\"white-space:pre;overflow-x:auto;line-height:normal;font-family:Menlo,'DejaVu Sans Mono',consolas,'Courier New',monospace\"></pre>\n"
     },
     "metadata": {},
     "output_type": "display_data"
    },
    {
     "name": "stdout",
     "output_type": "stream",
     "text": [
      "\u001b[3m            Validation epoch=1             \u001b[0m\n",
      "┏━━━━━━━━━━━━━━━━━━━━━┳━━━━━━━━━┳━━━━━━━━━┓\n",
      "┃\u001b[1m \u001b[0m\u001b[1mMetric             \u001b[0m\u001b[1m \u001b[0m┃\u001b[1m \u001b[0m\u001b[1m  Value\u001b[0m\u001b[1m \u001b[0m┃\u001b[1m \u001b[0m\u001b[1m  Error\u001b[0m\u001b[1m \u001b[0m┃\n",
      "┡━━━━━━━━━━━━━━━━━━━━━╇━━━━━━━━━╇━━━━━━━━━┩\n",
      "│\u001b[1;95m \u001b[0m\u001b[1;95mattractive         \u001b[0m\u001b[1;95m \u001b[0m│\u001b[1;95m \u001b[0m\u001b[1;95m0.00433\u001b[0m\u001b[1;95m \u001b[0m│\u001b[1;95m \u001b[0m\u001b[1;95m0.00087\u001b[0m\u001b[1;95m \u001b[0m│\n",
      "│ attractive_weighted │ 0.00433 │ 0.00087 │\n",
      "│ background          │ 0.81130 │ 0.00765 │\n",
      "│ background_weighted │ 0.08113 │ 0.00077 │\n",
      "│\u001b[1;95m \u001b[0m\u001b[1;95mrepulsive          \u001b[0m\u001b[1;95m \u001b[0m│\u001b[1;95m \u001b[0m\u001b[1;95m0.00115\u001b[0m\u001b[1;95m \u001b[0m│\u001b[1;95m \u001b[0m\u001b[1;95m0.00013\u001b[0m\u001b[1;95m \u001b[0m│\n",
      "│ repulsive_weighted  │ 0.00115 │ 0.00013 │\n",
      "│ total               │ 0.08661 │ 0.00002 │\n",
      "└─────────────────────┴─────────┴─────────┘\n",
      "\n"
     ]
    },
    {
     "name": "stderr",
     "output_type": "stream",
     "text": [
      "/scratch/gpfs/kl5675/micromamba/envs/gnn/lib/python3.10/site-packages/pytorch_lightning/trainer/connectors/data_connector.py:432: PossibleUserWarning: The dataloader, train_dataloader, does not have many workers which may be a bottleneck. Consider increasing the value of the `num_workers` argument` (try 48 which is the number of cpus on this machine) in the `DataLoader` init to improve performance.\n",
      "  rank_zero_warn(\n",
      "\u001b[36m[21:29:14 ClusterHP] DEBUG: Starting from params: {}\u001b[0m\n",
      "\u001b[32m[21:29:14 ClusterHP] INFO: Starting hyperparameter scan for clustering\u001b[0m\n",
      "\u001b[36m[21:29:22 ClusterHP] DEBUG: Evaluated {'eps': 0.6866929660849241, 'min_samples': 1}: 0.004317712790379806\u001b[0m\n",
      "\u001b[36m[21:29:24 ClusterHP] DEBUG: Evaluated {'eps': 0.853287073120374, 'min_samples': 1}: 0.0027049188066643414\u001b[0m\n",
      "\u001b[36m[21:29:26 ClusterHP] DEBUG: Evaluated {'eps': 0.977435769363506, 'min_samples': 1}: 0.0007317472616462487\u001b[0m\n",
      "\u001b[36m[21:29:29 ClusterHP] DEBUG: Evaluated {'eps': 0.5933909030045587, 'min_samples': 1}: 0.005684136257668483\u001b[0m\n",
      "\u001b[36m[21:29:31 ClusterHP] DEBUG: Evaluated {'eps': 0.623383450898183, 'min_samples': 1}: 0.006401511644990403\u001b[0m\n",
      "\u001b[36m[21:29:34 ClusterHP] DEBUG: Evaluated {'eps': 0.675201361516184, 'min_samples': 1}: 0.004987103370599986\u001b[0m\n",
      "\u001b[36m[21:29:34 ClusterHP] DEBUG: Evaluating all metrics for best clustering\u001b[0m\n",
      "\u001b[36m[21:29:41 ClusterHP] DEBUG: Evaluating metrics took 7.304349 seconds: Clustering time: 6.895789, total metric eval: 0.403925, individual: v_measure: 0.059057601960375905, homogeneity: 0.056588197068776935, completeness: 0.05649982998147607, trk: 0.16137061303015798, adjusted_rand: 0.03560740395914763, fowlkes_mallows: 0.03480103996116668\u001b[0m\n",
      "\u001b[36m[21:29:41 ClusterHP] DEBUG: Variance among 6 trials is 0.002094. Min/max: 0.000732/0.006402\u001b[0m\n",
      "\u001b[32m[21:29:41 ClusterHP] INFO: Clustering hyperparameter scan & metric evaluation took 27.35 seconds\u001b[0m\n"
     ]
    },
    {
     "data": {
      "text/plain": "",
      "text/html": "<pre style=\"white-space:pre;overflow-x:auto;line-height:normal;font-family:Menlo,'DejaVu Sans Mono',consolas,'Courier New',monospace\"></pre>\n"
     },
     "metadata": {},
     "output_type": "display_data"
    },
    {
     "name": "stdout",
     "output_type": "stream",
     "text": [
      "\u001b[3m                    Validation epoch=1                     \u001b[0m\n",
      "┏━━━━━━━━━━━━━━━━━━━━━━━━━━━━━━━━┳━━━━━━━━━━━━┳━━━━━━━━━━━┓\n",
      "┃\u001b[1m \u001b[0m\u001b[1mMetric                        \u001b[0m\u001b[1m \u001b[0m┃\u001b[1m \u001b[0m\u001b[1m     Value\u001b[0m\u001b[1m \u001b[0m┃\u001b[1m \u001b[0m\u001b[1m    Error\u001b[0m\u001b[1m \u001b[0m┃\n",
      "┡━━━━━━━━━━━━━━━━━━━━━━━━━━━━━━━━╇━━━━━━━━━━━━╇━━━━━━━━━━━┩\n",
      "│ adjusted_rand                  │   -0.00919 │   0.00828 │\n",
      "│\u001b[1;95m \u001b[0m\u001b[1;95mattractive                    \u001b[0m\u001b[1;95m \u001b[0m│\u001b[1;95m \u001b[0m\u001b[1;95m   0.00593\u001b[0m\u001b[1;95m \u001b[0m│\u001b[1;95m \u001b[0m\u001b[1;95m  0.00058\u001b[0m\u001b[1;95m \u001b[0m│\n",
      "│ attractive_weighted            │    0.00593 │   0.00058 │\n",
      "│ background                     │    0.73458 │   0.01528 │\n",
      "│ background_weighted            │    0.07346 │   0.00153 │\n",
      "│ best_dbscan_eps                │    0.62338 │       nan │\n",
      "│ best_dbscan_min_samples        │    1.00000 │       nan │\n",
      "│ completeness                   │    0.35017 │   0.01575 │\n",
      "│ fowlkes_mallows                │    0.41323 │   0.06298 │\n",
      "│ homogeneity                    │    0.26824 │   0.09504 │\n",
      "│\u001b[1;95m \u001b[0m\u001b[1;95mrepulsive                     \u001b[0m\u001b[1;95m \u001b[0m│\u001b[1;95m \u001b[0m\u001b[1;95m   0.00312\u001b[0m\u001b[1;95m \u001b[0m│\u001b[1;95m \u001b[0m\u001b[1;95m  0.00037\u001b[0m\u001b[1;95m \u001b[0m│\n",
      "│ repulsive_weighted             │    0.00312 │   0.00037 │\n",
      "│ total                          │    0.08252 │   0.00084 │\n",
      "│ trk.double_majority            │    0.00685 │   0.00245 │\n",
      "│ trk.double_majority_pt0.5      │    0.00659 │   0.00304 │\n",
      "│\u001b[1;95m \u001b[0m\u001b[1;95mtrk.double_majority_pt0.9     \u001b[0m\u001b[1;95m \u001b[0m│\u001b[1;95m \u001b[0m\u001b[1;95m   0.00640\u001b[0m\u001b[1;95m \u001b[0m│\u001b[1;95m \u001b[0m\u001b[1;95m  0.00502\u001b[0m\u001b[1;95m \u001b[0m│\n",
      "│ trk.double_majority_pt1.5      │    0.00831 │   0.00988 │\n",
      "│ trk.fake_double_majority       │    0.05808 │   0.02703 │\n",
      "│ trk.fake_double_majority_pt0.5 │    0.07588 │   0.03772 │\n",
      "│ trk.fake_double_majority_pt0.9 │    0.09382 │   0.04586 │\n",
      "│ trk.fake_double_majority_pt1.5 │    0.09259 │   0.05313 │\n",
      "│ trk.fake_lhc                   │    0.93306 │   0.01733 │\n",
      "│ trk.fake_lhc_pt0.5             │    0.92659 │   0.02218 │\n",
      "│ trk.fake_lhc_pt0.9             │    0.93321 │   0.02457 │\n",
      "│ trk.fake_lhc_pt1.5             │    0.90870 │   0.02095 │\n",
      "│ trk.fake_perfect               │    0.06483 │   0.02889 │\n",
      "│ trk.fake_perfect_pt0.5         │    0.08242 │   0.03962 │\n",
      "│ trk.fake_perfect_pt0.9         │    0.10022 │   0.04915 │\n",
      "│ trk.fake_perfect_pt1.5         │    0.10090 │   0.06049 │\n",
      "│ trk.lhc                        │    0.06694 │   0.01733 │\n",
      "│ trk.lhc_pt0.5                  │    0.07341 │   0.02218 │\n",
      "│\u001b[1;95m \u001b[0m\u001b[1;95mtrk.lhc_pt0.9                 \u001b[0m\u001b[1;95m \u001b[0m│\u001b[1;95m \u001b[0m\u001b[1;95m   0.06679\u001b[0m\u001b[1;95m \u001b[0m│\u001b[1;95m \u001b[0m\u001b[1;95m  0.02457\u001b[0m\u001b[1;95m \u001b[0m│\n",
      "│ trk.lhc_pt1.5                  │    0.09130 │   0.02095 │\n",
      "│ trk.n_cleaned_clusters         │  219.42857 │  53.39119 │\n",
      "│ trk.n_cleaned_clusters_pt0.5   │  175.42857 │  46.96402 │\n",
      "│ trk.n_cleaned_clusters_pt0.9   │   99.57143 │  26.57604 │\n",
      "│ trk.n_cleaned_clusters_pt1.5   │   32.57143 │  10.78359 │\n",
      "│ trk.n_particles                │ 3613.14282 │ 700.39667 │\n",
      "│ trk.n_particles_pt0.5          │ 2288.57153 │ 439.41129 │\n",
      "│ trk.n_particles_pt0.9          │ 1078.85718 │ 222.08813 │\n",
      "│ trk.n_particles_pt1.5          │  365.71429 │  85.92189 │\n",
      "│ trk.perfect                    │    0.00010 │   0.00013 │\n",
      "│ trk.perfect_pt0.5              │    0.00005 │   0.00013 │\n",
      "│\u001b[1;95m \u001b[0m\u001b[1;95mtrk.perfect_pt0.9             \u001b[0m\u001b[1;95m \u001b[0m│\u001b[1;95m \u001b[0m\u001b[1;95m   0.00000\u001b[0m\u001b[1;95m \u001b[0m│\u001b[1;95m \u001b[0m\u001b[1;95m  0.00000\u001b[0m\u001b[1;95m \u001b[0m│\n",
      "│ trk.perfect_pt1.5              │    0.00000 │   0.00000 │\n",
      "│ v_measure                      │    0.29811 │   0.05917 │\n",
      "└────────────────────────────────┴────────────┴───────────┘\n",
      "\n"
     ]
    },
    {
     "name": "stderr",
     "output_type": "stream",
     "text": [
      "\u001b[36m[21:30:29 ClusterHP] DEBUG: Starting from params: {'eps': 0.623383450898183, 'min_samples': 1}\u001b[0m\n",
      "\u001b[32m[21:30:29 ClusterHP] INFO: Starting hyperparameter scan for clustering\u001b[0m\n",
      "\u001b[32m[21:30:29 ClusterHP] INFO: Clustering hyperparameter scan & metric evaluation took 0.00 seconds\u001b[0m\n"
     ]
    },
    {
     "data": {
      "text/plain": "",
      "text/html": "<pre style=\"white-space:pre;overflow-x:auto;line-height:normal;font-family:Menlo,'DejaVu Sans Mono',consolas,'Courier New',monospace\"></pre>\n"
     },
     "metadata": {},
     "output_type": "display_data"
    },
    {
     "name": "stdout",
     "output_type": "stream",
     "text": [
      "\u001b[3m                    Validation epoch=2                     \u001b[0m\n",
      "┏━━━━━━━━━━━━━━━━━━━━━━━━━━━━━━━━┳━━━━━━━━━━━━┳━━━━━━━━━━━┓\n",
      "┃\u001b[1m \u001b[0m\u001b[1mMetric                        \u001b[0m\u001b[1m \u001b[0m┃\u001b[1m \u001b[0m\u001b[1m     Value\u001b[0m\u001b[1m \u001b[0m┃\u001b[1m \u001b[0m\u001b[1m    Error\u001b[0m\u001b[1m \u001b[0m┃\n",
      "┡━━━━━━━━━━━━━━━━━━━━━━━━━━━━━━━━╇━━━━━━━━━━━━╇━━━━━━━━━━━┩\n",
      "│ adjusted_rand                  │   -0.00919 │   0.00828 │\n",
      "│\u001b[1;95m \u001b[0m\u001b[1;95mattractive                    \u001b[0m\u001b[1;95m \u001b[0m│\u001b[1;95m \u001b[0m\u001b[1;95m   0.00656\u001b[0m\u001b[1;95m \u001b[0m│\u001b[1;95m \u001b[0m\u001b[1;95m  0.00050\u001b[0m\u001b[1;95m \u001b[0m│\n",
      "│ attractive_weighted            │    0.00656 │   0.00050 │\n",
      "│ background                     │    0.72970 │   0.01016 │\n",
      "│ background_weighted            │    0.07297 │   0.00102 │\n",
      "│ best_dbscan_eps                │    0.62338 │       nan │\n",
      "│ best_dbscan_min_samples        │    1.00000 │       nan │\n",
      "│ completeness                   │    0.35017 │   0.01575 │\n",
      "│ fowlkes_mallows                │    0.41323 │   0.06298 │\n",
      "│ homogeneity                    │    0.26824 │   0.09504 │\n",
      "│\u001b[1;95m \u001b[0m\u001b[1;95mrepulsive                     \u001b[0m\u001b[1;95m \u001b[0m│\u001b[1;95m \u001b[0m\u001b[1;95m   0.00245\u001b[0m\u001b[1;95m \u001b[0m│\u001b[1;95m \u001b[0m\u001b[1;95m  0.00021\u001b[0m\u001b[1;95m \u001b[0m│\n",
      "│ repulsive_weighted             │    0.00245 │   0.00021 │\n",
      "│ total                          │    0.08198 │   0.00060 │\n",
      "│ trk.double_majority            │    0.00685 │   0.00245 │\n",
      "│ trk.double_majority_pt0.5      │    0.00659 │   0.00304 │\n",
      "│\u001b[1;95m \u001b[0m\u001b[1;95mtrk.double_majority_pt0.9     \u001b[0m\u001b[1;95m \u001b[0m│\u001b[1;95m \u001b[0m\u001b[1;95m   0.00640\u001b[0m\u001b[1;95m \u001b[0m│\u001b[1;95m \u001b[0m\u001b[1;95m  0.00502\u001b[0m\u001b[1;95m \u001b[0m│\n",
      "│ trk.double_majority_pt1.5      │    0.00831 │   0.00988 │\n",
      "│ trk.fake_double_majority       │    0.05808 │   0.02703 │\n",
      "│ trk.fake_double_majority_pt0.5 │    0.07588 │   0.03772 │\n",
      "│ trk.fake_double_majority_pt0.9 │    0.09382 │   0.04586 │\n",
      "│ trk.fake_double_majority_pt1.5 │    0.09259 │   0.05313 │\n",
      "│ trk.fake_lhc                   │    0.93306 │   0.01733 │\n",
      "│ trk.fake_lhc_pt0.5             │    0.92659 │   0.02218 │\n",
      "│ trk.fake_lhc_pt0.9             │    0.93321 │   0.02457 │\n",
      "│ trk.fake_lhc_pt1.5             │    0.90870 │   0.02095 │\n",
      "│ trk.fake_perfect               │    0.06483 │   0.02889 │\n",
      "│ trk.fake_perfect_pt0.5         │    0.08242 │   0.03962 │\n",
      "│ trk.fake_perfect_pt0.9         │    0.10022 │   0.04915 │\n",
      "│ trk.fake_perfect_pt1.5         │    0.10090 │   0.06049 │\n",
      "│ trk.lhc                        │    0.06694 │   0.01733 │\n",
      "│ trk.lhc_pt0.5                  │    0.07341 │   0.02218 │\n",
      "│\u001b[1;95m \u001b[0m\u001b[1;95mtrk.lhc_pt0.9                 \u001b[0m\u001b[1;95m \u001b[0m│\u001b[1;95m \u001b[0m\u001b[1;95m   0.06679\u001b[0m\u001b[1;95m \u001b[0m│\u001b[1;95m \u001b[0m\u001b[1;95m  0.02457\u001b[0m\u001b[1;95m \u001b[0m│\n",
      "│ trk.lhc_pt1.5                  │    0.09130 │   0.02095 │\n",
      "│ trk.n_cleaned_clusters         │  219.42857 │  53.39119 │\n",
      "│ trk.n_cleaned_clusters_pt0.5   │  175.42857 │  46.96402 │\n",
      "│ trk.n_cleaned_clusters_pt0.9   │   99.57143 │  26.57604 │\n",
      "│ trk.n_cleaned_clusters_pt1.5   │   32.57143 │  10.78359 │\n",
      "│ trk.n_particles                │ 3613.14282 │ 700.39667 │\n",
      "│ trk.n_particles_pt0.5          │ 2288.57153 │ 439.41129 │\n",
      "│ trk.n_particles_pt0.9          │ 1078.85718 │ 222.08813 │\n",
      "│ trk.n_particles_pt1.5          │  365.71429 │  85.92189 │\n",
      "│ trk.perfect                    │    0.00010 │   0.00013 │\n",
      "│ trk.perfect_pt0.5              │    0.00005 │   0.00013 │\n",
      "│\u001b[1;95m \u001b[0m\u001b[1;95mtrk.perfect_pt0.9             \u001b[0m\u001b[1;95m \u001b[0m│\u001b[1;95m \u001b[0m\u001b[1;95m   0.00000\u001b[0m\u001b[1;95m \u001b[0m│\u001b[1;95m \u001b[0m\u001b[1;95m  0.00000\u001b[0m\u001b[1;95m \u001b[0m│\n",
      "│ trk.perfect_pt1.5              │    0.00000 │   0.00000 │\n",
      "│ v_measure                      │    0.29811 │   0.05917 │\n",
      "└────────────────────────────────┴────────────┴───────────┘\n",
      "\n"
     ]
    },
    {
     "name": "stderr",
     "output_type": "stream",
     "text": [
      "/scratch/gpfs/kl5675/micromamba/envs/gnn/lib/python3.10/site-packages/pytorch_lightning/trainer/call.py:52: UserWarning: Detected KeyboardInterrupt, attempting graceful shutdown...\n",
      "  rank_zero_warn(\"Detected KeyboardInterrupt, attempting graceful shutdown...\")\n"
     ]
    }
   ],
   "source": [
    "trainer = Trainer(\n",
    "    accelerator=\"gpu\", log_every_n_steps=1, logger=wl, enable_progress_bar=False\n",
    ")\n",
    "trainer.fit(model=lmodel, datamodule=dm)"
   ],
   "metadata": {
    "collapsed": false
   }
  },
  {
   "cell_type": "code",
   "execution_count": 39,
   "outputs": [
    {
     "name": "stdout",
     "output_type": "stream",
     "text": [
      "test\n"
     ]
    }
   ],
   "source": [
    "print(\"test\")"
   ],
   "metadata": {
    "collapsed": false
   }
  },
  {
   "cell_type": "code",
   "execution_count": 40,
   "outputs": [
    {
     "name": "stdout",
     "output_type": "stream",
     "text": [
      "/home/kl5675/Documents/23/git_sync/hpo/slurm\r\n"
     ]
    }
   ],
   "source": [
    "! pwd"
   ],
   "metadata": {
    "collapsed": false
   }
  },
  {
   "cell_type": "code",
   "execution_count": null,
   "outputs": [],
   "source": [],
   "metadata": {
    "collapsed": false
   }
  }
 ],
 "metadata": {
  "kernelspec": {
   "display_name": "Python 3",
   "language": "python",
   "name": "python3"
  },
  "language_info": {
   "codemirror_mode": {
    "name": "ipython",
    "version": 2
   },
   "file_extension": ".py",
   "mimetype": "text/x-python",
   "name": "python",
   "nbconvert_exporter": "python",
   "pygments_lexer": "ipython2",
   "version": "2.7.6"
  }
 },
 "nbformat": 4,
 "nbformat_minor": 0
}
