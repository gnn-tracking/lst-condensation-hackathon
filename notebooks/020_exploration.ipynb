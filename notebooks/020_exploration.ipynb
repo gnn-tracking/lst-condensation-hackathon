{
 "cells": [
  {
   "cell_type": "code",
   "execution_count": 3,
   "metadata": {
    "collapsed": true
   },
   "outputs": [],
   "source": [
    "import uproot\n",
    "import numpy as np"
   ]
  },
  {
   "cell_type": "code",
   "execution_count": 4,
   "outputs": [],
   "source": [
    "from pathlib import Path\n",
    "import awkward as ak"
   ],
   "metadata": {
    "collapsed": false
   }
  },
  {
   "cell_type": "code",
   "execution_count": 5,
   "outputs": [],
   "source": [
    "rpath = Path(\n",
    "    \"/scratch/gpfs/IOJALVO/gnn-tracking/object_condensation/lst_data_v0/root/LSTNtuple_MLTraining_v1.root\"\n",
    ")"
   ],
   "metadata": {
    "collapsed": false
   }
  },
  {
   "cell_type": "code",
   "execution_count": 6,
   "outputs": [],
   "source": [
    "tree = uproot.open(rpath)[\"tree\"]"
   ],
   "metadata": {
    "collapsed": false
   }
  },
  {
   "cell_type": "markdown",
   "source": [
    "## n_sim_matches"
   ],
   "metadata": {
    "collapsed": false
   }
  },
  {
   "cell_type": "code",
   "execution_count": 5,
   "outputs": [],
   "source": [
    "n_sm = tree[\"MD_n_sim_matches\"].array()"
   ],
   "metadata": {
    "collapsed": false
   }
  },
  {
   "cell_type": "code",
   "execution_count": 6,
   "outputs": [
    {
     "data": {
      "text/plain": "[0.5, 1.5, 2.5, 3.5, 4.5, 5.5, 6.5]"
     },
     "execution_count": 6,
     "metadata": {},
     "output_type": "execute_result"
    }
   ],
   "source": [
    "list(np.arange(0.5, 7.5))"
   ],
   "metadata": {
    "collapsed": false
   }
  },
  {
   "cell_type": "code",
   "execution_count": 7,
   "outputs": [],
   "source": [
    "s = ak.to_dataframe(ak.flatten(n_sm))[\"values\"]"
   ],
   "metadata": {
    "collapsed": false
   }
  },
  {
   "cell_type": "code",
   "execution_count": 8,
   "outputs": [
    {
     "data": {
      "text/plain": "0    3885151\n1    2720342\n2       5920\n3         26\n4          8\n5          1\n6          1\nName: values, dtype: int64"
     },
     "execution_count": 8,
     "metadata": {},
     "output_type": "execute_result"
    }
   ],
   "source": [
    "s.value_counts()"
   ],
   "metadata": {
    "collapsed": false
   }
  },
  {
   "cell_type": "code",
   "execution_count": 9,
   "outputs": [
    {
     "data": {
      "text/plain": "<Axes: >"
     },
     "execution_count": 9,
     "metadata": {},
     "output_type": "execute_result"
    },
    {
     "data": {
      "text/plain": "<Figure size 640x480 with 1 Axes>",
      "image/png": "[encoded data removed]"
     },
     "metadata": {},
     "output_type": "display_data"
    }
   ],
   "source": [
    "s.value_counts().plot.bar()"
   ],
   "metadata": {
    "collapsed": false
   }
  },
  {
   "cell_type": "markdown",
   "source": [
    "## edge purity"
   ],
   "metadata": {
    "collapsed": false
   }
  },
  {
   "cell_type": "code",
   "execution_count": 10,
   "outputs": [
    {
     "data": {
      "text/plain": "1    0.925668\n0    0.074332\nName: values, dtype: float64"
     },
     "execution_count": 10,
     "metadata": {},
     "output_type": "execute_result"
    }
   ],
   "source": [
    "s = ak.to_dataframe(ak.flatten(tree[\"LS_isFake\"].array()))[\"values\"]\n",
    "s.value_counts() / len(s)"
   ],
   "metadata": {
    "collapsed": false
   }
  },
  {
   "cell_type": "code",
   "execution_count": 11,
   "outputs": [
    {
     "data": {
      "text/plain": "<TBranchElement 'sim_pt' at 0x147d3c3157e0>"
     },
     "execution_count": 11,
     "metadata": {},
     "output_type": "execute_result"
    }
   ],
   "source": [
    "tree[\"sim_pt\"]"
   ],
   "metadata": {
    "collapsed": false
   }
  },
  {
   "cell_type": "code",
   "execution_count": 12,
   "outputs": [
    {
     "data": {
      "text/plain": "['LS_MD_idx0',\n 'LS_MD_idx1',\n 'LS_eta',\n 'LS_isFake',\n 'LS_isInTrueTC',\n 'LS_phi',\n 'LS_pt',\n 'LS_sim_bx',\n 'LS_sim_eta',\n 'LS_sim_event',\n 'LS_sim_pca_dxy',\n 'LS_sim_pca_dz',\n 'LS_sim_pdgId',\n 'LS_sim_phi',\n 'LS_sim_pt',\n 'LS_sim_q',\n 'LS_sim_vx',\n 'LS_sim_vy',\n 'LS_sim_vz',\n 'MD_0_r',\n 'MD_0_x',\n 'MD_0_y',\n 'MD_0_z',\n 'MD_1_r',\n 'MD_1_x',\n 'MD_1_y',\n 'MD_1_z',\n 'MD_detId',\n 'MD_dphichange',\n 'MD_eta',\n 'MD_isFake',\n 'MD_layer',\n 'MD_n_sim_matches',\n 'MD_phi',\n 'MD_pt',\n 'MD_sim_idx',\n 'MD_tpType',\n 'pLS_eta',\n 'pLS_isDuplicate',\n 'pLS_isFake',\n 'pLS_phi',\n 'pLS_pt',\n 'pLS_score',\n 'pT3_eta',\n 'pT3_foundDuplicate',\n 'pT3_hitIdxs',\n 'pT3_isDuplicate',\n 'pT3_isFake',\n 'pT3_layer_binary',\n 'pT3_matched_pt',\n 'pT3_matched_simIdx',\n 'pT3_moduleType_binary',\n 'pT3_phi',\n 'pT3_pixelRadius',\n 'pT3_pixelRadiusError',\n 'pT3_pt',\n 'pT3_rPhiChiSquared',\n 'pT3_rPhiChiSquaredInwards',\n 'pT3_rzChiSquared',\n 'pT3_score',\n 'pT3_tripletRadius',\n 'pT5_eta',\n 'pT5_hitIdxs',\n 'pT5_isDuplicate',\n 'pT5_isFake',\n 'pT5_layer_binary',\n 'pT5_matched_pt',\n 'pT5_matched_simIdx',\n 'pT5_moduleType_binary',\n 'pT5_phi',\n 'pT5_pt',\n 'pT5_rPhiChiSquared',\n 'pT5_rPhiChiSquaredInwards',\n 'pT5_rzChiSquared',\n 'pT5_score',\n 'sim_T5_matched',\n 'sim_TC_matched',\n 'sim_TC_matched_idx',\n 'sim_TC_matched_mask',\n 'sim_dummy',\n 'sim_eta',\n 'sim_event',\n 'sim_pLS_matched',\n 'sim_pLS_types',\n 'sim_pT3_matched',\n 'sim_pT5_matched',\n 'sim_pca_dxy',\n 'sim_pca_dz',\n 'sim_pdgId',\n 'sim_phi',\n 'sim_pt',\n 'sim_q',\n 'sim_trkNtupIdx',\n 'sim_vx',\n 'sim_vy',\n 'sim_vz',\n 't3_0_detId',\n 't3_0_dr',\n 't3_0_eta',\n 't3_0_layer',\n 't3_0_moduleType',\n 't3_0_phi',\n 't3_0_r',\n 't3_0_x',\n 't3_0_y',\n 't3_0_z',\n 't3_2_detId',\n 't3_2_dr',\n 't3_2_eta',\n 't3_2_layer',\n 't3_2_moduleType',\n 't3_2_phi',\n 't3_2_r',\n 't3_2_x',\n 't3_2_y',\n 't3_2_z',\n 't3_4_detId',\n 't3_4_dr',\n 't3_4_eta',\n 't3_4_layer',\n 't3_4_moduleType',\n 't3_4_phi',\n 't3_4_r',\n 't3_4_x',\n 't3_4_y',\n 't3_4_z',\n 't3_eta',\n 't3_isFake',\n 't3_phi',\n 't3_pt',\n 't3_ptLegacy',\n 't5_bridgeRadius',\n 't5_chiSquared',\n 't5_eta',\n 't5_foundDuplicate',\n 't5_hitIdxs',\n 't5_innerRadius',\n 't5_isDuplicate',\n 't5_isFake',\n 't5_layer_binary',\n 't5_matched_pt',\n 't5_matched_simIdx',\n 't5_moduleType_binary',\n 't5_nonAnchorChiSquared',\n 't5_outerRadius',\n 't5_partOfTC',\n 't5_phi',\n 't5_pt',\n 't5_rzChiSquared',\n 't5_score_rphisum',\n 't5_t3_idx0',\n 't5_t3_idx1',\n 't5_tc_idx',\n 'tc_dummy',\n 'tc_eta',\n 'tc_isDuplicate',\n 'tc_isFake',\n 'tc_lsIdx',\n 'tc_matched_simIdx',\n 'tc_phi',\n 'tc_pt',\n 'tc_type']"
     },
     "execution_count": 12,
     "metadata": {},
     "output_type": "execute_result"
    }
   ],
   "source": [
    "sorted(tree.keys())"
   ],
   "metadata": {
    "collapsed": false
   }
  },
  {
   "cell_type": "markdown",
   "source": [
    "## Getting pt"
   ],
   "metadata": {
    "collapsed": false
   }
  },
  {
   "cell_type": "code",
   "execution_count": 13,
   "outputs": [
    {
     "data": {
      "text/html": "<pre>[0.181,\n 1.21,\n 0.906,\n 0.483,\n 0.611,\n 0.358,\n 0.428,\n 0.645,\n 0.947,\n 0.509,\n ...,\n 0.187,\n 0.322,\n 0.121,\n 0.597,\n 0.327,\n 0.271,\n 1.06,\n 0.168,\n 0.783]\n--------------------\ntype: 1022 * float32</pre>",
      "text/plain": "<Array [0.181, 1.21, 0.906, ..., 1.06, 0.168, 0.783] type='1022 * float32'>"
     },
     "execution_count": 13,
     "metadata": {},
     "output_type": "execute_result"
    }
   ],
   "source": [
    "tree[\"sim_pt\"].array()[0]"
   ],
   "metadata": {
    "collapsed": false
   }
  },
  {
   "cell_type": "code",
   "execution_count": 9,
   "outputs": [
    {
     "data": {
      "text/plain": "['sim_eta',\n 'tc_eta',\n 'pT5_eta',\n 'pT3_eta',\n 'pLS_eta',\n 't5_eta',\n 'MD_eta',\n 'MD_sim_eta',\n 'LS_eta',\n 'LS_sim_eta',\n 't3_eta',\n 't3_0_eta',\n 't3_2_eta',\n 't3_4_eta']"
     },
     "execution_count": 9,
     "metadata": {},
     "output_type": "execute_result"
    }
   ],
   "source": [
    "[k for k in tree.keys() if \"eta\" in k.casefold()]"
   ],
   "metadata": {
    "collapsed": false
   }
  },
  {
   "cell_type": "code",
   "execution_count": 33,
   "outputs": [
    {
     "data": {
      "text/plain": "1021"
     },
     "execution_count": 33,
     "metadata": {},
     "output_type": "execute_result"
    }
   ],
   "source": [
    "ak.values_astype(tree[\"sim_trkNtupIdx\"].array(), \"int64\")[0].to_numpy().max()"
   ],
   "metadata": {
    "collapsed": false
   }
  },
  {
   "cell_type": "code",
   "execution_count": 42,
   "outputs": [
    {
     "data": {
      "text/html": "<pre>[0.726,\n 1.24,\n 1.6,\n 1.35,\n 0.644,\n 0.158,\n 0.439,\n 1.56,\n 2.09,\n 0.548,\n ...,\n 0.3,\n 0.204,\n 0.127,\n 0.532,\n 0.629,\n 1.18,\n 0.285,\n 0.97,\n 0.374]\n--------------------\ntype: 1206 * float32</pre>",
      "text/plain": "<Array [0.726, 1.24, 1.6, 1.35, ..., 0.285, 0.97, 0.374] type='1206 * float32'>"
     },
     "execution_count": 42,
     "metadata": {},
     "output_type": "execute_result"
    }
   ],
   "source": [
    "tree[\"sim_pt\"].array()[40]"
   ],
   "metadata": {
    "collapsed": false
   }
  },
  {
   "cell_type": "code",
   "execution_count": 43,
   "outputs": [],
   "source": [
    "si = ak.flatten(tree[\"MD_sim_idx\"].array()).to_numpy()"
   ],
   "metadata": {
    "collapsed": false
   }
  },
  {
   "cell_type": "code",
   "execution_count": 45,
   "outputs": [
    {
     "data": {
      "text/plain": "0.5876398653305803"
     },
     "execution_count": 45,
     "metadata": {},
     "output_type": "execute_result"
    }
   ],
   "source": [
    "(si < 0).sum() / len(si)"
   ],
   "metadata": {
    "collapsed": false
   }
  },
  {
   "cell_type": "code",
   "execution_count": null,
   "outputs": [],
   "source": [],
   "metadata": {
    "collapsed": false
   }
  }
 ],
 "metadata": {
  "kernelspec": {
   "display_name": "Python 3",
   "language": "python",
   "name": "python3"
  },
  "language_info": {
   "codemirror_mode": {
    "name": "ipython",
    "version": 2
   },
   "file_extension": ".py",
   "mimetype": "text/x-python",
   "name": "python",
   "nbconvert_exporter": "python",
   "pygments_lexer": "ipython2",
   "version": "2.7.6"
  }
 },
 "nbformat": 4,
 "nbformat_minor": 0
}
